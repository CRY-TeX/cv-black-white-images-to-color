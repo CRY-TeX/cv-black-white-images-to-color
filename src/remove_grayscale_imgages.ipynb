{
 "cells": [
  {
   "cell_type": "code",
   "execution_count": 1,
   "metadata": {},
   "outputs": [],
   "source": [
    "import os\n",
    "from tqdm import tqdm\n",
    "from PIL import Image, ImageChops\n",
    "import pandas as pd"
   ]
  },
  {
   "cell_type": "code",
   "execution_count": 2,
   "metadata": {},
   "outputs": [],
   "source": [
    "def is_greyscale(im):\n",
    "    \"\"\"\n",
    "    Check if image is monochrome (1 channel or 3 identical channels)\n",
    "    \"\"\"\n",
    "    if im.mode not in (\"L\", \"RGB\"):\n",
    "        raise ValueError(\"Unsuported image mode\")\n",
    "\n",
    "    if im.mode == \"RGB\":\n",
    "        rgb = im.split()\n",
    "        if ImageChops.difference(rgb[0],rgb[1]).getextrema()[1]!=0: \n",
    "            return False\n",
    "        if ImageChops.difference(rgb[0],rgb[2]).getextrema()[1]!=0: \n",
    "            return False\n",
    "    return True"
   ]
  },
  {
   "cell_type": "code",
   "execution_count": 4,
   "metadata": {},
   "outputs": [],
   "source": [
    "DATA_PATH = '/app/data/imagenet_data/'\n",
    "TRAIN_PATH = os.path.join(DATA_PATH, 'train')\n",
    "VALI_PATH = os.path.join(DATA_PATH, 'vali')\n",
    "TEST_PATH = os.path.join(DATA_PATH, 'test')\n",
    "\n",
    "TRAIN_COLOR_PATH = os.path.join(TRAIN_PATH, 'color')\n",
    "VALI_COLOR_PATH = os.path.join(VALI_PATH, 'color')\n",
    "TEST_COLOR_PATH = os.path.join(TEST_PATH, 'color')\n",
    "\n",
    "TRAIN_GRAYSCALE_PATH = os.path.join(TRAIN_PATH, 'grayscale')\n",
    "VALI_GRAYSCALE_PATH = os.path.join(VALI_PATH, 'grayscale')\n",
    "TEST_GRAYSCALE_PATH = os.path.join(TEST_PATH, 'grayscale')"
   ]
  },
  {
   "cell_type": "code",
   "execution_count": 5,
   "metadata": {},
   "outputs": [],
   "source": [
    "def find_grayscale_in_dir(folder_path: str, folder_gray_path: str, func = is_greyscale) -> list:\n",
    "    images = []\n",
    "    for img_name in tqdm(os.listdir(folder_path)):\n",
    "        full_img_path = os.path.join(folder_path, img_name)\n",
    "        img = Image.open(full_img_path)\n",
    "        if func(img):\n",
    "            images.append(full_img_path)\n",
    "            images.append(os.path.join(folder_gray_path, img_name))\n",
    "    return images"
   ]
  },
  {
   "cell_type": "code",
   "execution_count": 6,
   "metadata": {},
   "outputs": [
    {
     "name": "stderr",
     "output_type": "stream",
     "text": [
      "100%|██████████| 8041/8041 [00:15<00:00, 502.61it/s]\n"
     ]
    }
   ],
   "source": [
    "gray_img_test = find_grayscale_in_dir(TEST_COLOR_PATH, TEST_GRAYSCALE_PATH)"
   ]
  },
  {
   "cell_type": "code",
   "execution_count": 7,
   "metadata": {},
   "outputs": [
    {
     "name": "stderr",
     "output_type": "stream",
     "text": [
      "100%|██████████| 16081/16081 [00:30<00:00, 523.80it/s]\n"
     ]
    }
   ],
   "source": [
    "gray_img_vali = find_grayscale_in_dir(VALI_COLOR_PATH, VALI_GRAYSCALE_PATH)"
   ]
  },
  {
   "cell_type": "code",
   "execution_count": 8,
   "metadata": {},
   "outputs": [
    {
     "name": "stderr",
     "output_type": "stream",
     "text": [
      "100%|██████████| 56282/56282 [01:49<00:00, 515.50it/s]\n"
     ]
    }
   ],
   "source": [
    "gray_img_train = find_grayscale_in_dir(TRAIN_COLOR_PATH, TRAIN_GRAYSCALE_PATH)"
   ]
  },
  {
   "cell_type": "code",
   "execution_count": 9,
   "metadata": {},
   "outputs": [
    {
     "data": {
      "text/plain": [
       "(2638, 790, 356, 3784)"
      ]
     },
     "execution_count": 9,
     "metadata": {},
     "output_type": "execute_result"
    }
   ],
   "source": [
    "len(gray_img_train), len(gray_img_vali), len(gray_img_test), len(gray_img_train) + len(gray_img_vali) + len(gray_img_test)"
   ]
  },
  {
   "cell_type": "code",
   "execution_count": 10,
   "metadata": {},
   "outputs": [],
   "source": [
    "all_gray = gray_img_train + gray_img_vali + gray_img_test"
   ]
  }
 ],
 "metadata": {
  "kernelspec": {
   "display_name": "Python 3 (ipykernel)",
   "language": "python",
   "name": "python3"
  },
  "orig_nbformat": 4
 },
 "nbformat": 4,
 "nbformat_minor": 2
}
