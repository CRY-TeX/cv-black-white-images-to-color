{
 "cells": [
  {
   "cell_type": "code",
   "execution_count": null,
   "metadata": {},
   "outputs": [],
   "source": [
    "import os"
   ]
  },
  {
   "cell_type": "code",
   "execution_count": null,
   "metadata": {},
   "outputs": [],
   "source": [
    "from src.train_autoencoder_vgg19 import train"
   ]
  },
  {
   "cell_type": "code",
   "execution_count": null,
   "metadata": {},
   "outputs": [],
   "source": [
    "train_path = '/app/data/imagenet_data/train/'\n",
    "tensorboard_path = '/app/data/tensorboard_logs/tensorboard_5'\n",
    "model_save_path = '/app/models/decoder/decoder_model_vgg19_5/decoder_model_vgg19_5.h5'\n",
    "save_checkpoints = False\n",
    "percentage = 0.30\n",
    "epochs = 10\n",
    "# 20 40 20 20 30"
   ]
  },
  {
   "cell_type": "code",
   "execution_count": null,
   "metadata": {},
   "outputs": [],
   "source": [
    "train(\n",
    "    train_path=train_path,\n",
    "    tensorboard_path=tensorboard_path,\n",
    "    model_save_path=model_save_path,\n",
    "    percentage=percentage,\n",
    "    epochs=epochs,\n",
    "    save_checkpoints=save_checkpoints,\n",
    "    tqdm_on=True\n",
    ")"
   ]
  },
  {
   "cell_type": "code",
   "execution_count": null,
   "metadata": {},
   "outputs": [],
   "source": [
    "!cp {model_save_path} {os.path.splitext(model_save_path)[0] + '_7.h5'}"
   ]
  }
 ],
 "metadata": {
  "kernelspec": {
   "display_name": "Python 3 (ipykernel)",
   "language": "python",
   "name": "python3"
  },
  "language_info": {
   "codemirror_mode": {
    "name": "ipython",
    "version": 3
   },
   "file_extension": ".py",
   "mimetype": "text/x-python",
   "name": "python",
   "nbconvert_exporter": "python",
   "pygments_lexer": "ipython3",
   "version": "3.8.10"
  },
  "orig_nbformat": 4
 },
 "nbformat": 4,
 "nbformat_minor": 2
}
