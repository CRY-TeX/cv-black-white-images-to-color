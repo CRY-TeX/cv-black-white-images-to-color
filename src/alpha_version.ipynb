{
 "cells": [
  {
   "cell_type": "code",
   "execution_count": 1,
   "metadata": {},
   "outputs": [],
   "source": [
    "import os\n",
    "import numpy as np\n",
    "import pandas as pd\n",
    "from PIL import Image, ImageOps\n",
    "from tqdm import tqdm\n",
    "from typing import Optional\n",
    "import matplotlib.pyplot as plt"
   ]
  },
  {
   "cell_type": "code",
   "execution_count": 2,
   "metadata": {},
   "outputs": [
    {
     "name": "stderr",
     "output_type": "stream",
     "text": [
      "2023-06-17 22:19:13.417160: I tensorflow/core/util/port.cc:110] oneDNN custom operations are on. You may see slightly different numerical results due to floating-point round-off errors from different computation orders. To turn them off, set the environment variable `TF_ENABLE_ONEDNN_OPTS=0`.\n",
      "2023-06-17 22:19:13.446657: I tensorflow/core/platform/cpu_feature_guard.cc:182] This TensorFlow binary is optimized to use available CPU instructions in performance-critical operations.\n",
      "To enable the following instructions: AVX2 AVX512F AVX512_VNNI FMA, in other operations, rebuild TensorFlow with the appropriate compiler flags.\n"
     ]
    }
   ],
   "source": [
    "import tensorflow as tf\n",
    "import keras\n",
    "import keras.callbacks\n",
    "import keras.optimizers\n",
    "import keras.layers as kl"
   ]
  },
  {
   "cell_type": "code",
   "execution_count": 3,
   "metadata": {},
   "outputs": [],
   "source": [
    "def dice_loss(y_true, y_pred):\n",
    "    numerator = 2 * tf.reduce_sum(y_true * y_pred)\n",
    "    denominator = tf.reduce_sum(y_true + y_pred)\n",
    "    dice_coef = numerator / (denominator + tf.keras.backend.epsilon())\n",
    "    return 1 - dice_coef"
   ]
  },
  {
   "cell_type": "code",
   "execution_count": 4,
   "metadata": {},
   "outputs": [],
   "source": [
    "DATA_PATH = '/app/data/imagenet_data/'\n",
    "TRAIN_PATH = os.path.join(DATA_PATH, 'train')\n",
    "VALI_PATH = os.path.join(DATA_PATH, 'vali')\n",
    "TEST_PATH = os.path.join(DATA_PATH, 'test')\n",
    "\n",
    "TRAIN_COLOR_PATH = os.path.join(TRAIN_PATH, 'color')\n",
    "VALI_COLOR_PATH = os.path.join(VALI_PATH, 'color')\n",
    "TEST_COLOR_PATH = os.path.join(TEST_PATH, 'color')\n",
    "\n",
    "TRAIN_GRAYSCALE_PATH = os.path.join(TRAIN_PATH, 'grayscale')\n",
    "VALI_GRAYSCALE_PATH = os.path.join(VALI_PATH, 'grayscale')\n",
    "TEST_GRAYSCALE_PATH = os.path.join(TEST_PATH, 'grayscale')"
   ]
  },
  {
   "cell_type": "code",
   "execution_count": 5,
   "metadata": {},
   "outputs": [],
   "source": [
    "image_dimensions = (400,400)"
   ]
  },
  {
   "cell_type": "code",
   "execution_count": 6,
   "metadata": {},
   "outputs": [],
   "source": [
    "def read_images(file_paths: list, *, resize_dimensions: Optional[tuple] = (400,400), show_progress: bool = True):\n",
    "\n",
    "    images = []\n",
    "    folder_contents = file_paths\n",
    "    if show_progress:\n",
    "        folder_contents = tqdm(file_paths)\n",
    "\n",
    "    for filename in folder_contents:\n",
    "        img = Image.open(filename)\n",
    "        if resize_dimensions is not None:\n",
    "            img = ImageOps.fit(img, resize_dimensions)\n",
    "        img = np.asarray(img) / 255.0\n",
    "        img = img.reshape((*img.shape, 1))\n",
    "\n",
    "        images.append(tf.constant(img))\n",
    "    \n",
    "    return np.array(images)\n"
   ]
  },
  {
   "cell_type": "code",
   "execution_count": 7,
   "metadata": {},
   "outputs": [],
   "source": [
    "def get_image_paths(folder: str, start: int, end: int):\n",
    "    return [os.path.join(folder, file_name) for file_name in os.listdir(folder)[start:end]]"
   ]
  },
  {
   "cell_type": "code",
   "execution_count": 8,
   "metadata": {},
   "outputs": [
    {
     "name": "stderr",
     "output_type": "stream",
     "text": [
      "  0%|          | 0/100 [00:00<?, ?it/s]2023-06-17 22:19:14.788383: I tensorflow/compiler/xla/stream_executor/cuda/cuda_gpu_executor.cc:996] successful NUMA node read from SysFS had negative value (-1), but there must be at least one NUMA node, so returning NUMA node zero. See more at https://github.com/torvalds/linux/blob/v6.0/Documentation/ABI/testing/sysfs-bus-pci#L344-L355\n",
      "2023-06-17 22:19:14.798272: I tensorflow/compiler/xla/stream_executor/cuda/cuda_gpu_executor.cc:996] successful NUMA node read from SysFS had negative value (-1), but there must be at least one NUMA node, so returning NUMA node zero. See more at https://github.com/torvalds/linux/blob/v6.0/Documentation/ABI/testing/sysfs-bus-pci#L344-L355\n",
      "2023-06-17 22:19:14.798496: I tensorflow/compiler/xla/stream_executor/cuda/cuda_gpu_executor.cc:996] successful NUMA node read from SysFS had negative value (-1), but there must be at least one NUMA node, so returning NUMA node zero. See more at https://github.com/torvalds/linux/blob/v6.0/Documentation/ABI/testing/sysfs-bus-pci#L344-L355\n",
      "2023-06-17 22:19:14.800070: I tensorflow/compiler/xla/stream_executor/cuda/cuda_gpu_executor.cc:996] successful NUMA node read from SysFS had negative value (-1), but there must be at least one NUMA node, so returning NUMA node zero. See more at https://github.com/torvalds/linux/blob/v6.0/Documentation/ABI/testing/sysfs-bus-pci#L344-L355\n",
      "2023-06-17 22:19:14.800279: I tensorflow/compiler/xla/stream_executor/cuda/cuda_gpu_executor.cc:996] successful NUMA node read from SysFS had negative value (-1), but there must be at least one NUMA node, so returning NUMA node zero. See more at https://github.com/torvalds/linux/blob/v6.0/Documentation/ABI/testing/sysfs-bus-pci#L344-L355\n",
      "2023-06-17 22:19:14.800447: I tensorflow/compiler/xla/stream_executor/cuda/cuda_gpu_executor.cc:996] successful NUMA node read from SysFS had negative value (-1), but there must be at least one NUMA node, so returning NUMA node zero. See more at https://github.com/torvalds/linux/blob/v6.0/Documentation/ABI/testing/sysfs-bus-pci#L344-L355\n",
      "2023-06-17 22:19:15.194261: I tensorflow/compiler/xla/stream_executor/cuda/cuda_gpu_executor.cc:996] successful NUMA node read from SysFS had negative value (-1), but there must be at least one NUMA node, so returning NUMA node zero. See more at https://github.com/torvalds/linux/blob/v6.0/Documentation/ABI/testing/sysfs-bus-pci#L344-L355\n",
      "2023-06-17 22:19:15.194370: I tensorflow/compiler/xla/stream_executor/cuda/cuda_gpu_executor.cc:996] successful NUMA node read from SysFS had negative value (-1), but there must be at least one NUMA node, so returning NUMA node zero. See more at https://github.com/torvalds/linux/blob/v6.0/Documentation/ABI/testing/sysfs-bus-pci#L344-L355\n",
      "2023-06-17 22:19:15.194443: I tensorflow/compiler/xla/stream_executor/cuda/cuda_gpu_executor.cc:996] successful NUMA node read from SysFS had negative value (-1), but there must be at least one NUMA node, so returning NUMA node zero. See more at https://github.com/torvalds/linux/blob/v6.0/Documentation/ABI/testing/sysfs-bus-pci#L344-L355\n",
      "2023-06-17 22:19:15.194511: I tensorflow/core/common_runtime/gpu/gpu_device.cc:1635] Created device /job:localhost/replica:0/task:0/device:GPU:0 with 22285 MB memory:  -> device: 0, name: NVIDIA RTX A5000, pci bus id: 0000:01:00.0, compute capability: 8.6\n",
      "100%|██████████| 100/100 [00:01<00:00, 78.18it/s]\n",
      "100%|██████████| 100/100 [00:00<00:00, 415.21it/s]\n"
     ]
    }
   ],
   "source": [
    "# train images\n",
    "train_slice = 0, 100\n",
    "train_color = read_images(get_image_paths(TRAIN_COLOR_PATH, *train_slice), resize_dimensions=image_dimensions)\n",
    "train_gray = read_images(get_image_paths(TRAIN_GRAYSCALE_PATH, *train_slice), resize_dimensions=image_dimensions)"
   ]
  },
  {
   "cell_type": "code",
   "execution_count": 9,
   "metadata": {},
   "outputs": [
    {
     "name": "stderr",
     "output_type": "stream",
     "text": [
      "100%|██████████| 300/300 [00:01<00:00, 189.76it/s]\n",
      "100%|██████████| 300/300 [00:00<00:00, 443.02it/s]\n"
     ]
    }
   ],
   "source": [
    "# vali images\n",
    "vali_slice = 0, 300\n",
    "vali_color = read_images(get_image_paths(VALI_COLOR_PATH, *vali_slice), resize_dimensions=image_dimensions)\n",
    "vali_gray = read_images(get_image_paths(VALI_GRAYSCALE_PATH, *vali_slice), resize_dimensions=image_dimensions)"
   ]
  },
  {
   "cell_type": "code",
   "execution_count": 10,
   "metadata": {},
   "outputs": [
    {
     "name": "stderr",
     "output_type": "stream",
     "text": [
      "100%|██████████| 100/100 [00:00<00:00, 200.52it/s]\n",
      "100%|██████████| 100/100 [00:00<00:00, 451.54it/s]\n"
     ]
    }
   ],
   "source": [
    "# test images\n",
    "test_limit = 0, 100\n",
    "test_color = read_images(get_image_paths(TEST_COLOR_PATH, *test_limit), resize_dimensions=image_dimensions)\n",
    "test_gray = read_images(get_image_paths(TEST_GRAYSCALE_PATH, *test_limit), resize_dimensions=image_dimensions)"
   ]
  },
  {
   "cell_type": "code",
   "execution_count": 11,
   "metadata": {},
   "outputs": [],
   "source": [
    "early_stopping = keras.callbacks.EarlyStopping(\n",
    "    monitor='val_loss',\n",
    "    patience=3,\n",
    "    restore_best_weights=True\n",
    ")"
   ]
  },
  {
   "cell_type": "code",
   "execution_count": 29,
   "metadata": {},
   "outputs": [],
   "source": [
    "input_shape = (*image_dimensions, 3)\n",
    "\n",
    "inputs = kl.Input(shape=input_shape)\n",
    "\n",
    "x = kl.Conv2D(2, (3,3), activation='relu', padding='same', strides=1)(inputs)\n",
    "x = kl.Conv2D(4, (3,3), activation='relu', padding='same')(x)\n",
    "x = kl.Conv2D(6, (3,3), activation='relu', padding='same', strides=2)(x)\n",
    "x = kl.Conv2D(8, (3,3), activation='relu', padding='same', strides=2)(x)\n",
    "x = kl.UpSampling2D((2,2))(x)\n",
    "x = kl.Conv2D(64, (3,3), activation='relu', padding='same')(x)\n",
    "x = kl.UpSampling2D((2,2))(x)\n",
    "x = kl.Conv2D(32, (3,3), activation='relu', padding='same')(x)\n",
    "x = kl.UpSampling2D((2,2))(x)\n",
    "outputs = kl.Conv2D(3, (3,3), activation='tanh', padding='same')(x)"
   ]
  },
  {
   "cell_type": "code",
   "execution_count": 30,
   "metadata": {},
   "outputs": [],
   "source": [
    "model = keras.Model(inputs=inputs, outputs=outputs)\n",
    "model.compile(optimizer=keras.optimizers.Adam(learning_rate=0.00001), loss='sparse_categorical_crossentropy', metrics=['mae'])"
   ]
  },
  {
   "cell_type": "code",
   "execution_count": 31,
   "metadata": {},
   "outputs": [
    {
     "name": "stdout",
     "output_type": "stream",
     "text": [
      "Model: \"model_4\"\n",
      "_________________________________________________________________\n",
      " Layer (type)                Output Shape              Param #   \n",
      "=================================================================\n",
      " input_6 (InputLayer)        [(None, 400, 400, 3)]     0         \n",
      "                                                                 \n",
      " conv2d_35 (Conv2D)          (None, 400, 400, 2)       56        \n",
      "                                                                 \n",
      " conv2d_36 (Conv2D)          (None, 400, 400, 4)       76        \n",
      "                                                                 \n",
      " conv2d_37 (Conv2D)          (None, 200, 200, 6)       222       \n",
      "                                                                 \n",
      " conv2d_38 (Conv2D)          (None, 100, 100, 8)       440       \n",
      "                                                                 \n",
      " up_sampling2d_15 (UpSamplin  (None, 200, 200, 8)      0         \n",
      " g2D)                                                            \n",
      "                                                                 \n",
      " conv2d_39 (Conv2D)          (None, 200, 200, 64)      4672      \n",
      "                                                                 \n",
      " up_sampling2d_16 (UpSamplin  (None, 400, 400, 64)     0         \n",
      " g2D)                                                            \n",
      "                                                                 \n",
      " conv2d_40 (Conv2D)          (None, 400, 400, 32)      18464     \n",
      "                                                                 \n",
      " up_sampling2d_17 (UpSamplin  (None, 800, 800, 32)     0         \n",
      " g2D)                                                            \n",
      "                                                                 \n",
      " conv2d_41 (Conv2D)          (None, 800, 800, 3)       867       \n",
      "                                                                 \n",
      "=================================================================\n",
      "Total params: 24,797\n",
      "Trainable params: 24,797\n",
      "Non-trainable params: 0\n",
      "_________________________________________________________________\n"
     ]
    }
   ],
   "source": [
    "model.summary()"
   ]
  },
  {
   "cell_type": "code",
   "execution_count": null,
   "metadata": {},
   "outputs": [],
   "source": [
    "hist = model.fit(x=train_color, y=train_gray, batch_size=1, epochs=30, callbacks=[early_stopping], validation_data=(vali_color, vali_gray), verbose=1)"
   ]
  },
  {
   "cell_type": "code",
   "execution_count": null,
   "metadata": {},
   "outputs": [],
   "source": [
    "df_hist = pd.DataFrame(hist.history)"
   ]
  },
  {
   "cell_type": "code",
   "execution_count": null,
   "metadata": {},
   "outputs": [],
   "source": [
    "df_hist.plot()"
   ]
  },
  {
   "cell_type": "code",
   "execution_count": null,
   "metadata": {},
   "outputs": [],
   "source": [
    "pred = model.predict(test_color)"
   ]
  },
  {
   "cell_type": "code",
   "execution_count": null,
   "metadata": {},
   "outputs": [],
   "source": [
    "# display all 100 predictions in a plot\n",
    "fig, axs = plt.subplots(10, 10, figsize=(20,20))\n",
    "for i in range(10):\n",
    "    for j in range(10):\n",
    "        axs[i,j].imshow((pred[i*10+j]*255).astype(np.uint8))\n",
    "        axs[i,j].axis('off')"
   ]
  }
 ],
 "metadata": {
  "kernelspec": {
   "display_name": "Python 3 (ipykernel)",
   "language": "python",
   "name": "python3"
  },
  "orig_nbformat": 4
 },
 "nbformat": 4,
 "nbformat_minor": 2
}
