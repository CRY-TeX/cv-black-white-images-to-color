{
 "cells": [
  {
   "cell_type": "code",
   "execution_count": null,
   "metadata": {},
   "outputs": [],
   "source": [
    "import tqdm\n",
    "import os\n",
    "from subprocess import check_output, CalledProcessError, STDOUT\n",
    "import shlex\n",
    "from concurrent.futures import ThreadPoolExecutor\n",
    "import numpy as np\n"
   ]
  },
  {
   "cell_type": "code",
   "execution_count": null,
   "metadata": {},
   "outputs": [],
   "source": [
    "kaggle_image_paths = np.array([file_name.strip() for file_name in open('../data/all_files.txt').readlines()])\n"
   ]
  },
  {
   "cell_type": "code",
   "execution_count": null,
   "metadata": {},
   "outputs": [],
   "source": [
    "def system_call(command):\n",
    "    \"\"\" \n",
    "    :param command: command as string e.g. 'ls -la'\n",
    "    :returns: output, success\n",
    "    :raises: CalledProcessError - decode with e.output.decode()\n",
    "    \"\"\"\n",
    "    command = shlex.split(command)\n",
    "    output = check_output(command, stderr=STDOUT).decode()\n",
    "    return output\n"
   ]
  },
  {
   "cell_type": "code",
   "execution_count": null,
   "metadata": {},
   "outputs": [],
   "source": [
    "def kaggle_download(file_name: str) -> str:\n",
    "    \"\"\"\n",
    "    Downloads a file from the kaggle imagenet competition.\n",
    "\n",
    "    :param file_name: the full path to the file name based on the kaggle competition data repo\n",
    "    :returns: output from the system call\n",
    "    :raises: CalledProcessError - decode with e.output.decode()\n",
    "    \"\"\"\n",
    "    kaggle_download_command = f'kaggle competitions download -c imagenet-object-localization-challenge -f {file_name} -p ../data/imagenet_images/'\n",
    "    output = system_call(kaggle_download_command)\n",
    "    return output\n"
   ]
  },
  {
   "cell_type": "code",
   "execution_count": null,
   "metadata": {},
   "outputs": [],
   "source": [
    "def download_chunk(chunk: list[str]) -> list[tuple[str, str]]:\n",
    "    \"\"\"\n",
    "    Downloads a chunk of files from the kaggle imagenet competition.\n",
    "\n",
    "    :param chunk: a list of full paths to the file names based on the kaggle competition data repo\n",
    "    :returns: a list of failed downloads in the format (file, reason for failure)\n",
    "    \"\"\"\n",
    "\n",
    "    failed_downloads: list[tuple[str, str]] = []  # file, reason\n",
    "    for file in chunk:\n",
    "        try:\n",
    "            kaggle_download(file)\n",
    "        except CalledProcessError as e:\n",
    "            failed_downloads.append((file, e.output.decode()))\n",
    "\n",
    "    return failed_downloads\n"
   ]
  },
  {
   "cell_type": "code",
   "execution_count": null,
   "metadata": {},
   "outputs": [],
   "source": [
    "chunks = np.split(kaggle_image_paths[:60], 20)\n"
   ]
  },
  {
   "cell_type": "code",
   "execution_count": null,
   "metadata": {},
   "outputs": [],
   "source": [
    "def threaded_download(chunks: list[list[str]] | np.ndarray) -> list[tuple[str, str]]:\n",
    "    \"\"\"\n",
    "    Downloads a chunk of files from the kaggle imagenet competition in a threaded manner.\n",
    "\n",
    "    :param chunk: a list of full paths to the file names based on the kaggle competition data repo\n",
    "    :returns: a list of failed downloads in the format (file, reason for failure)\n",
    "    \"\"\"\n",
    "    failed_downloads: list[tuple[str, str]] = []  # file, reason\n",
    "    with ThreadPoolExecutor(max_workers=None) as executor:\n",
    "        # use tqdm to track executors progress\n",
    "        failed_downloads_futures = list(tqdm.tqdm(executor.map(download_chunk, chunks), total=len(chunks)))\n",
    "\n",
    "        # resolve failed downloads\n",
    "        failed_downloads = [item for sublist in failed_downloads_futures for item in sublist]\n",
    "\n",
    "    return failed_downloads\n"
   ]
  },
  {
   "cell_type": "code",
   "execution_count": null,
   "metadata": {},
   "outputs": [],
   "source": [
    "def test_threading_speed():\n",
    "    \"\"\"\n",
    "    Tests how much time it takes to spin up a thread\n",
    "    \"\"\"\n",
    "\n",
    "    def mundane_task(*args):\n",
    "        return 1\n",
    "\n",
    "    mundane_task_results = []\n",
    "    with ThreadPoolExecutor(max_workers=None) as executor:\n",
    "        mundane_task_results = list(executor.map(mundane_task, range(20)))\n",
    "\n",
    "    return [item for item in mundane_task_results]\n"
   ]
  }
 ],
 "metadata": {
  "kernelspec": {
   "display_name": "cv-black-white-images-to-color-QZAssXU-",
   "language": "python",
   "name": "python3"
  },
  "language_info": {
   "codemirror_mode": {
    "name": "ipython",
    "version": 3
   },
   "file_extension": ".py",
   "mimetype": "text/x-python",
   "name": "python",
   "nbconvert_exporter": "python",
   "pygments_lexer": "ipython3",
   "version": "3.10.11"
  },
  "orig_nbformat": 4
 },
 "nbformat": 4,
 "nbformat_minor": 2
}
