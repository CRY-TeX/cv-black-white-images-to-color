{
 "cells": [
  {
   "cell_type": "code",
   "execution_count": 1,
   "metadata": {},
   "outputs": [
    {
     "name": "stderr",
     "output_type": "stream",
     "text": [
      "2023-06-17 03:26:37.952277: I tensorflow/core/util/port.cc:110] oneDNN custom operations are on. You may see slightly different numerical results due to floating-point round-off errors from different computation orders. To turn them off, set the environment variable `TF_ENABLE_ONEDNN_OPTS=0`.\n",
      "2023-06-17 03:26:37.971864: I tensorflow/core/platform/cpu_feature_guard.cc:182] This TensorFlow binary is optimized to use available CPU instructions in performance-critical operations.\n",
      "To enable the following instructions: AVX2 AVX512F AVX512_VNNI FMA, in other operations, rebuild TensorFlow with the appropriate compiler flags.\n"
     ]
    }
   ],
   "source": [
    "import tensorflow as tf\n",
    "import numpy as np\n",
    "import keras.layers as kl\n",
    "import keras.losses as loss\n",
    "from keras import Sequential\n",
    "import keras.optimizers as ko\n",
    "import pandas as pd\n",
    "import matplotlib.pyplot as plt"
   ]
  },
  {
   "cell_type": "code",
   "execution_count": 2,
   "metadata": {},
   "outputs": [],
   "source": [
    "def dice_loss(y_true, y_pred):\n",
    "    numerator = 2 * tf.reduce_sum(y_true * y_pred)\n",
    "    denominator = tf.reduce_sum(y_true + y_pred)\n",
    "    dice_coef = numerator / (denominator + tf.keras.backend.epsilon())\n",
    "    return 1 - dice_coef"
   ]
  },
  {
   "cell_type": "code",
   "execution_count": 3,
   "metadata": {},
   "outputs": [],
   "source": [
    "def focal_loss(y_true, y_pred, alpha=0.25, gamma=2.0):\n",
    "    # Calculate the binary cross-entropy\n",
    "    cross_entropy = tf.keras.backend.binary_crossentropy(y_true, y_pred, from_logits=False)\n",
    "\n",
    "    # Calculate the focal weights\n",
    "    pt = y_true * y_pred + (1 - y_true) * (1 - y_pred)\n",
    "    alpha_factor = y_true * alpha + (1 - y_true) * (1 - alpha)\n",
    "    focal_weights = alpha_factor * tf.pow(1 - pt, gamma)\n",
    "\n",
    "    # Apply the focal weights to the cross-entropy loss\n",
    "    focal_loss = focal_weights * cross_entropy\n",
    "\n",
    "    # Compute the mean loss across all samples\n",
    "    return tf.reduce_mean(focal_loss)"
   ]
  },
  {
   "cell_type": "code",
   "execution_count": 4,
   "metadata": {},
   "outputs": [],
   "source": [
    "X = tf.reshape(tf.constant(np.linspace(0,1,100_000*16*16)), (100_000,16,16,1))\n",
    "Y = tf.reshape(tf.constant(np.linspace(0,1,1000)), (1000,1))"
   ]
  },
  {
   "cell_type": "code",
   "execution_count": 25,
   "metadata": {},
   "outputs": [
    {
     "name": "stdout",
     "output_type": "stream",
     "text": [
      "Model: \"sequential_9\"\n",
      "_________________________________________________________________\n",
      " Layer (type)                Output Shape              Param #   \n",
      "=================================================================\n",
      " conv2d_52 (Conv2D)          (None, 16, 16, 40)        200       \n",
      "                                                                 \n",
      " conv2d_53 (Conv2D)          (None, 16, 16, 20)        3220      \n",
      "                                                                 \n",
      " conv2d_54 (Conv2D)          (None, 16, 16, 20)        1620      \n",
      "                                                                 \n",
      " max_pooling2d_9 (MaxPooling  (None, 8, 8, 20)         0         \n",
      " 2D)                                                             \n",
      "                                                                 \n",
      " batch_normalization_10 (Bat  (None, 8, 8, 20)         80        \n",
      " chNormalization)                                                \n",
      "                                                                 \n",
      " conv2d_55 (Conv2D)          (None, 8, 8, 20)          1620      \n",
      "                                                                 \n",
      " conv2d_56 (Conv2D)          (None, 8, 8, 20)          1620      \n",
      "                                                                 \n",
      " conv2d_57 (Conv2D)          (None, 8, 8, 20)          1620      \n",
      "                                                                 \n",
      " max_pooling2d_10 (MaxPoolin  (None, 4, 4, 20)         0         \n",
      " g2D)                                                            \n",
      "                                                                 \n",
      " batch_normalization_11 (Bat  (None, 4, 4, 20)         80        \n",
      " chNormalization)                                                \n",
      "                                                                 \n",
      " conv2d_58 (Conv2D)          (None, 4, 4, 20)          1620      \n",
      "                                                                 \n",
      " conv2d_59 (Conv2D)          (None, 4, 4, 20)          1620      \n",
      "                                                                 \n",
      " conv2d_60 (Conv2D)          (None, 4, 4, 20)          1620      \n",
      "                                                                 \n",
      " max_pooling2d_11 (MaxPoolin  (None, 2, 2, 20)         0         \n",
      " g2D)                                                            \n",
      "                                                                 \n",
      " batch_normalization_12 (Bat  (None, 2, 2, 20)         80        \n",
      " chNormalization)                                                \n",
      "                                                                 \n",
      " batch_normalization_13 (Bat  (None, 2, 2, 20)         80        \n",
      " chNormalization)                                                \n",
      "                                                                 \n",
      "=================================================================\n",
      "Total params: 15,080\n",
      "Trainable params: 14,920\n",
      "Non-trainable params: 160\n",
      "_________________________________________________________________\n",
      "Model: \"sequential_10\"\n",
      "_________________________________________________________________\n",
      " Layer (type)                Output Shape              Param #   \n",
      "=================================================================\n",
      " conv2d_61 (Conv2D)          (None, 2, 2, 40)          3240      \n",
      "                                                                 \n",
      " conv2d_62 (Conv2D)          (None, 2, 2, 40)          6440      \n",
      "                                                                 \n",
      " conv2d_63 (Conv2D)          (None, 2, 2, 40)          6440      \n",
      "                                                                 \n",
      " up_sampling2d_9 (UpSampling  (None, 4, 4, 40)         0         \n",
      " 2D)                                                             \n",
      "                                                                 \n",
      " conv2d_64 (Conv2D)          (None, 4, 4, 40)          6440      \n",
      "                                                                 \n",
      " conv2d_65 (Conv2D)          (None, 4, 4, 40)          6440      \n",
      "                                                                 \n",
      " conv2d_66 (Conv2D)          (None, 4, 4, 40)          6440      \n",
      "                                                                 \n",
      " up_sampling2d_10 (UpSamplin  (None, 8, 8, 40)         0         \n",
      " g2D)                                                            \n",
      "                                                                 \n",
      " conv2d_67 (Conv2D)          (None, 8, 8, 40)          6440      \n",
      "                                                                 \n",
      " conv2d_68 (Conv2D)          (None, 8, 8, 40)          6440      \n",
      "                                                                 \n",
      " conv2d_69 (Conv2D)          (None, 8, 8, 40)          6440      \n",
      "                                                                 \n",
      " up_sampling2d_11 (UpSamplin  (None, 16, 16, 40)       0         \n",
      " g2D)                                                            \n",
      "                                                                 \n",
      " conv2d_70 (Conv2D)          (None, 16, 16, 1)         41        \n",
      "                                                                 \n",
      "=================================================================\n",
      "Total params: 54,801\n",
      "Trainable params: 54,801\n",
      "Non-trainable params: 0\n",
      "_________________________________________________________________\n"
     ]
    }
   ],
   "source": [
    "# Define the encoder model\n",
    "encoder_model = tf.keras.models.Sequential()\n",
    "encoder_model.add(tf.keras.layers.Conv2D(40, (2, 2), activation='relu', padding='same', input_shape=X.shape[1:]))\n",
    "encoder_model.add(tf.keras.layers.Conv2D(20, (2, 2), activation='relu', padding='same'))\n",
    "encoder_model.add(tf.keras.layers.Conv2D(20, (2, 2), activation='relu', padding='same'))\n",
    "encoder_model.add(tf.keras.layers.MaxPooling2D((2, 2), padding='same'))\n",
    "encoder_model.add(kl.BatchNormalization())\n",
    "encoder_model.add(tf.keras.layers.Conv2D(20, (2, 2), activation='relu', padding='same'))\n",
    "encoder_model.add(tf.keras.layers.Conv2D(20, (2, 2), activation='relu', padding='same'))\n",
    "encoder_model.add(tf.keras.layers.Conv2D(20, (2, 2), activation='relu', padding='same'))\n",
    "encoder_model.add(tf.keras.layers.MaxPooling2D((2, 2), padding='same'))\n",
    "encoder_model.add(kl.BatchNormalization())\n",
    "encoder_model.add(tf.keras.layers.Conv2D(20, (2, 2), activation='relu', padding='same'))\n",
    "encoder_model.add(tf.keras.layers.Conv2D(20, (2, 2), activation='relu', padding='same'))\n",
    "encoder_model.add(tf.keras.layers.Conv2D(20, (2, 2), activation='relu', padding='same'))\n",
    "encoder_model.add(tf.keras.layers.MaxPooling2D((2, 2), padding='same'))\n",
    "\n",
    "# Define the decoder model\n",
    "decoder_model = tf.keras.models.Sequential()\n",
    "decoder_model.add(tf.keras.layers.Conv2D(40, (2, 2), activation='relu', padding='same'))\n",
    "decoder_model.add(tf.keras.layers.Conv2D(40, (2, 2), activation='relu', padding='same'))\n",
    "decoder_model.add(tf.keras.layers.Conv2D(40, (2, 2), activation='relu', padding='same'))\n",
    "decoder_model.add(tf.keras.layers.UpSampling2D((2, 2)))\n",
    "encoder_model.add(kl.BatchNormalization())\n",
    "decoder_model.add(tf.keras.layers.Conv2D(40, (2, 2), activation='relu', padding='same'))\n",
    "decoder_model.add(tf.keras.layers.Conv2D(40, (2, 2), activation='relu', padding='same'))\n",
    "decoder_model.add(tf.keras.layers.Conv2D(40, (2, 2), activation='relu', padding='same'))\n",
    "decoder_model.add(tf.keras.layers.UpSampling2D((2, 2)))\n",
    "encoder_model.add(kl.BatchNormalization())\n",
    "decoder_model.add(tf.keras.layers.Conv2D(40, (2, 2), activation='relu', padding='same'))\n",
    "decoder_model.add(tf.keras.layers.Conv2D(40, (2, 2), activation='relu', padding='same'))\n",
    "decoder_model.add(tf.keras.layers.Conv2D(40, (2, 2), activation='relu', padding='same'))\n",
    "decoder_model.add(tf.keras.layers.UpSampling2D((2, 2)))\n",
    "decoder_model.add(tf.keras.layers.Conv2D(1, (1, 1), activation='sigmoid', padding='same'))\n",
    "\n",
    "\n",
    "# Combine the encoder and decoder into an autoencoder model\n",
    "autoencoder_model = tf.keras.models.Sequential([encoder_model, decoder_model])\n",
    "\n",
    "# Compile the autoencoder model\n",
    "autoencoder_model.compile(optimizer=ko.Adam(learning_rate=0.0001), loss='binary_crossentropy', metrics=['mae'])\n",
    "\n",
    "# Print the summary of the autoencoder model\n",
    "# autoencoder_model.summary()\n",
    "encoder_model.summary()\n",
    "decoder_model.summary()\n"
   ]
  },
  {
   "cell_type": "code",
   "execution_count": 26,
   "metadata": {},
   "outputs": [
    {
     "name": "stdout",
     "output_type": "stream",
     "text": [
      "Epoch 1/5\n"
     ]
    },
    {
     "name": "stdout",
     "output_type": "stream",
     "text": [
      "1000/1000 [==============================] - 12s 11ms/step - loss: 0.6435 - mae: 0.1974\n",
      "Epoch 2/5\n",
      "1000/1000 [==============================] - 11s 11ms/step - loss: 0.5416 - mae: 0.0790\n",
      "Epoch 3/5\n",
      "1000/1000 [==============================] - 11s 11ms/step - loss: 0.5199 - mae: 0.0486\n",
      "Epoch 4/5\n",
      "1000/1000 [==============================] - 11s 11ms/step - loss: 0.5113 - mae: 0.0352\n",
      "Epoch 5/5\n",
      "1000/1000 [==============================] - 11s 11ms/step - loss: 0.5062 - mae: 0.0246\n"
     ]
    }
   ],
   "source": [
    "hist = autoencoder_model.fit(X, X, epochs=5, batch_size=100)"
   ]
  },
  {
   "cell_type": "code",
   "execution_count": 27,
   "metadata": {},
   "outputs": [],
   "source": [
    "dfm = pd.DataFrame(hist.history)"
   ]
  },
  {
   "cell_type": "code",
   "execution_count": 28,
   "metadata": {},
   "outputs": [
    {
     "data": {
      "text/plain": [
       "<Axes: >"
      ]
     },
     "execution_count": 28,
     "metadata": {},
     "output_type": "execute_result"
    },
    {
     "data": {
      "image/png": "[encoded data removed]",
      "text/plain": [
       "<Figure size 640x480 with 1 Axes>"
      ]
     },
     "metadata": {},
     "output_type": "display_data"
    }
   ],
   "source": [
    "dfm.plot()"
   ]
  },
  {
   "cell_type": "code",
   "execution_count": 29,
   "metadata": {},
   "outputs": [
    {
     "data": {
      "text/plain": [
       "<matplotlib.image.AxesImage at 0x7fb58f5b6040>"
      ]
     },
     "execution_count": 29,
     "metadata": {},
     "output_type": "execute_result"
    },
    {
     "data": {
      "image/png": "[encoded data removed]",
      "text/plain": [
       "<Figure size 640x480 with 1 Axes>"
      ]
     },
     "metadata": {},
     "output_type": "display_data"
    }
   ],
   "source": [
    "plt.imshow(X[0], cmap='gray')"
   ]
  },
  {
   "cell_type": "code",
   "execution_count": 30,
   "metadata": {},
   "outputs": [
    {
     "name": "stdout",
     "output_type": "stream",
     "text": [
      "1/1 [==============================] - 0s 99ms/step\n"
     ]
    }
   ],
   "source": [
    "pred = autoencoder_model.predict(X[0:1])"
   ]
  },
  {
   "cell_type": "code",
   "execution_count": 31,
   "metadata": {},
   "outputs": [
    {
     "data": {
      "text/plain": [
       "array([0.00551485, 0.00640916, 0.00650483, 0.0070918 , 0.00788281,\n",
       "       0.00792633, 0.00895665, 0.00920897, 0.0096335 , 0.00963543,\n",
       "       0.00966801, 0.0098544 , 0.01014373, 0.01016997, 0.01025008,\n",
       "       0.01037966, 0.01039109, 0.01065709, 0.01074502, 0.01120445,\n",
       "       0.01147157, 0.01156791, 0.01182889, 0.01223457, 0.0122672 ,\n",
       "       0.01230383, 0.01252133, 0.01258001, 0.01322165, 0.01462453,\n",
       "       0.01476245, 0.014764  , 0.01476449, 0.01477982, 0.01526383,\n",
       "       0.01559514, 0.01574388, 0.01602703, 0.01700477, 0.01705299,\n",
       "       0.01739627, 0.01843995, 0.01847886, 0.01921304, 0.02033251,\n",
       "       0.0220112 , 0.02209138, 0.02221338, 0.02492776, 0.02683138,\n",
       "       0.02691627, 0.02705199, 0.02764597, 0.0282116 , 0.02972933,\n",
       "       0.03118831, 0.03851767, 0.03871772, 0.05011861, 0.07608015,\n",
       "       0.08557189, 0.16568206, 0.19468229, 0.36673862], dtype=float32)"
      ]
     },
     "execution_count": 31,
     "metadata": {},
     "output_type": "execute_result"
    }
   ],
   "source": [
    "np.unique(pred)"
   ]
  },
  {
   "cell_type": "code",
   "execution_count": 32,
   "metadata": {},
   "outputs": [],
   "source": [
    "npred = np.reshape(pred[0], (16,16))"
   ]
  },
  {
   "cell_type": "code",
   "execution_count": 33,
   "metadata": {},
   "outputs": [
    {
     "data": {
      "text/plain": [
       "<matplotlib.image.AxesImage at 0x7fb58f551040>"
      ]
     },
     "execution_count": 33,
     "metadata": {},
     "output_type": "execute_result"
    },
    {
     "data": {
      "image/png": "[encoded data removed]",
      "text/plain": [
       "<Figure size 640x480 with 1 Axes>"
      ]
     },
     "metadata": {},
     "output_type": "display_data"
    }
   ],
   "source": [
    "plt.imshow(pred[0], cmap='gray')"
   ]
  }
 ],
 "metadata": {
  "kernelspec": {
   "display_name": "Python 3",
   "language": "python",
   "name": "python3"
  },
  "language_info": {
   "codemirror_mode": {
    "name": "ipython",
    "version": 3
   },
   "file_extension": ".py",
   "mimetype": "text/x-python",
   "name": "python",
   "nbconvert_exporter": "python",
   "pygments_lexer": "ipython3",
   "version": "3.8.10"
  },
  "orig_nbformat": 4
 },
 "nbformat": 4,
 "nbformat_minor": 2
}
