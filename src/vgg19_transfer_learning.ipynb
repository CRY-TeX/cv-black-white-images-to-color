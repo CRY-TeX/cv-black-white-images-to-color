{
 "cells": [
  {
   "cell_type": "code",
   "execution_count": null,
   "metadata": {},
   "outputs": [],
   "source": [
    "import os\n",
    "import numpy as np\n",
    "import pandas as pd\n",
    "import matplotlib.pyplot as plt\n",
    "from tqdm import tqdm"
   ]
  },
  {
   "cell_type": "code",
   "execution_count": null,
   "metadata": {},
   "outputs": [],
   "source": [
    "import tensorflow as tf\n",
    "import keras\n",
    "import keras.models as km\n",
    "import keras.layers as kl\n",
    "import keras.utils as ku\n",
    "from keras.preprocessing.image import ImageDataGenerator\n",
    "from keras.callbacks import TensorBoard\n",
    "import skimage.color as skc\n",
    "from skimage.transform import resize\n",
    "from skimage.io import imsave, imshow\n",
    "from keras.applications.vgg19 import VGG19"
   ]
  },
  {
   "cell_type": "code",
   "execution_count": null,
   "metadata": {},
   "outputs": [],
   "source": [
    "vgg_model = VGG19()"
   ]
  },
  {
   "cell_type": "code",
   "execution_count": null,
   "metadata": {},
   "outputs": [],
   "source": [
    "encoder_model = km.Sequential(\n",
    "    vgg_model.layers[:-5]\n",
    ")"
   ]
  },
  {
   "cell_type": "code",
   "execution_count": null,
   "metadata": {},
   "outputs": [],
   "source": [
    "encoder_model.summary()"
   ]
  },
  {
   "cell_type": "code",
   "execution_count": null,
   "metadata": {},
   "outputs": [],
   "source": [
    "# freeze VGG16 layers to keep feature extractors the same\n",
    "for layer in encoder_model.layers:\n",
    "    layer.trainable = False"
   ]
  },
  {
   "cell_type": "code",
   "execution_count": null,
   "metadata": {},
   "outputs": [],
   "source": [
    "TRAIN_PATH = '/app/data/imagenet_data/train/'"
   ]
  },
  {
   "cell_type": "code",
   "execution_count": null,
   "metadata": {},
   "outputs": [],
   "source": [
    "train_datagen = ImageDataGenerator(rescale=1./255)"
   ]
  },
  {
   "cell_type": "code",
   "execution_count": null,
   "metadata": {},
   "outputs": [],
   "source": [
    "train = train_datagen.flow_from_directory(\n",
    "    TRAIN_PATH,\n",
    "    target_size=(224, 224),\n",
    "    batch_size=128,\n",
    "    class_mode=None\n",
    ")"
   ]
  },
  {
   "cell_type": "code",
   "execution_count": null,
   "metadata": {},
   "outputs": [],
   "source": [
    "batches = train.n // train.batch_size\n",
    "batches"
   ]
  },
  {
   "cell_type": "code",
   "execution_count": null,
   "metadata": {},
   "outputs": [],
   "source": [
    "for i in tqdm(range(batches)):\n",
    "    b = train[i]\n",
    "    if i == 428:\n",
    "        print(b)"
   ]
  },
  {
   "cell_type": "code",
   "execution_count": null,
   "metadata": {},
   "outputs": [],
   "source": [
    "def create_XY(data):\n",
    "    X = []\n",
    "    Y = []\n",
    "    for img in data:\n",
    "        try:\n",
    "            lab = skc.rgb2lab(img)\n",
    "            X.append(lab[:, :, 0])\n",
    "            Y.append(lab[:, :, 1:] / 128)\n",
    "        except:\n",
    "            print('error')\n",
    "    X = np.array(X)\n",
    "    Y = np.array(Y)\n",
    "    X = X.reshape(X.shape + (1,))\n",
    "    return X, Y"
   ]
  },
  {
   "cell_type": "code",
   "execution_count": null,
   "metadata": {},
   "outputs": [],
   "source": [
    "def out_vgg(X, vgg_model):\n",
    "    vgg_features = []\n",
    "    for i, sample in enumerate(X):\n",
    "        sample = skc.gray2rgb(sample)\n",
    "        sample = sample.reshape((1, 224, 224, 3))\n",
    "        prediction = vgg_model.predict(sample, verbose=0)\n",
    "        prediction = prediction.reshape((14, 14, 512))\n",
    "        vgg_features.append(prediction)\n",
    "    vgg_features = np.array(vgg_features)\n",
    "    return vgg_features"
   ]
  },
  {
   "cell_type": "code",
   "execution_count": null,
   "metadata": {},
   "outputs": [],
   "source": [
    "def run_encoder_vgg(data, vgg_model):\n",
    "    X, Y = create_XY(data)\n",
    "    vgg_features = out_vgg(X, vgg_model)\n",
    "    return vgg_features, Y"
   ]
  },
  {
   "cell_type": "code",
   "execution_count": null,
   "metadata": {},
   "outputs": [],
   "source": [
    "tensorboard_callback = TensorBoard(log_dir='/app/vgg19_tensorboard_logs', histogram_freq=0, write_graph=True, write_images=True)"
   ]
  },
  {
   "cell_type": "code",
   "execution_count": null,
   "metadata": {},
   "outputs": [],
   "source": [
    "decoder_model = km.Sequential()\n",
    "decoder_model.add(kl.Conv2D(256, (3, 3), activation='relu', padding='same', input_shape=(14, 14, 512)))\n",
    "decoder_model.add(kl.Conv2D(128, (3, 3), activation='relu', padding='same'))\n",
    "# decoder_model.add(kl.UpSampling2D((2, 2)))\n",
    "decoder_model.add(kl.Conv2D(64, (3, 3), activation='relu', padding='same'))\n",
    "decoder_model.add(kl.UpSampling2D((2, 2)))\n",
    "decoder_model.add(kl.Conv2D(32, (3, 3), activation='relu', padding='same'))\n",
    "decoder_model.add(kl.UpSampling2D((2, 2)))\n",
    "decoder_model.add(kl.Conv2D(16, (3, 3), activation='relu', padding='same'))\n",
    "decoder_model.add(kl.UpSampling2D((2, 2)))\n",
    "decoder_model.add(kl.Conv2D(2, (3, 3), activation='tanh', padding='same'))\n",
    "decoder_model.add(kl.UpSampling2D((2, 2)))\n",
    "\n",
    "decoder_model.compile(optimizer='adam', loss='mse', metrics=['accuracy'])"
   ]
  },
  {
   "cell_type": "code",
   "execution_count": null,
   "metadata": {},
   "outputs": [],
   "source": [
    "train.n / train.batch_size"
   ]
  },
  {
   "cell_type": "code",
   "execution_count": null,
   "metadata": {},
   "outputs": [],
   "source": [
    "hists = []\n",
    "start = 0\n",
    "end = 30\n",
    "for i in tqdm(range(start, end)):\n",
    "    vgg_features, Y = run_encoder_vgg(train[i], encoder_model)\n",
    "    hist = decoder_model.fit(vgg_features, Y, validation_split=0.1, epochs=30, batch_size=32, verbose=0, callbacks=[tensorboard_callback])\n",
    "    hists.append(hist)"
   ]
  },
  {
   "cell_type": "code",
   "execution_count": null,
   "metadata": {},
   "outputs": [],
   "source": [
    "concatted_histories = []\n",
    "for hist in hists:\n",
    "    concatted_histories.append(pd.DataFrame(hist.history))\n",
    "\n",
    "df_hist = pd.concat(concatted_histories)\n",
    "df_hist.to_csv('/app/output/transfer_learning_histories.csv')"
   ]
  },
  {
   "cell_type": "code",
   "execution_count": null,
   "metadata": {},
   "outputs": [],
   "source": [
    "TEST_PATH = '/app/data/imagenet_data/test/color/'"
   ]
  },
  {
   "cell_type": "code",
   "execution_count": null,
   "metadata": {},
   "outputs": [],
   "source": [
    "files = os.listdir(TEST_PATH)[:100]"
   ]
  },
  {
   "cell_type": "code",
   "execution_count": null,
   "metadata": {},
   "outputs": [],
   "source": [
    "def predict_grayscal2rgb(file_paths):\n",
    "    rgb_images = []\n",
    "    for file in tqdm(file_paths):\n",
    "        test = ku.img_to_array(ku.load_img(os.path.join(TEST_PATH, file)))\n",
    "        test = resize(test, (224, 224), anti_aliasing=True)\n",
    "        test *= 1.0 / 255\n",
    "        lab = skc.rgb2lab(test)\n",
    "        l = lab[:, :, 0]\n",
    "        L = skc.gray2rgb(l)\n",
    "        L = L.reshape((1, 224, 224, 3))\n",
    "        vggpred = encoder_model.predict(L, verbose=0)\n",
    "        ab = decoder_model.predict(vggpred, verbose=0)\n",
    "        ab = ab * 128\n",
    "\n",
    "        cur = np.zeros((224, 224, 3))\n",
    "        cur[:, :, 0] = l\n",
    "        cur[:, :, 1:] = ab\n",
    "\n",
    "        rgb_img = skc.lab2rgb(cur)\n",
    "        rgb_img = ( rgb_img * 256 ).astype(np.uint8)\n",
    "        rgb_images.append(rgb_img)\n",
    "\n",
    "    return rgb_images"
   ]
  },
  {
   "cell_type": "code",
   "execution_count": null,
   "metadata": {},
   "outputs": [],
   "source": [
    "rgb_images = predict_grayscal2rgb(files)"
   ]
  },
  {
   "cell_type": "code",
   "execution_count": null,
   "metadata": {},
   "outputs": [],
   "source": [
    "# display images in grid\n",
    "fig, ax = plt.subplots(10, 10, figsize=(10, 10))\n",
    "for i, rgb_img in enumerate(rgb_images):\n",
    "    ax[i//10, i%10].imshow(rgb_img)\n",
    "    ax[i//10, i%10].axis('off')"
   ]
  }
 ],
 "metadata": {
  "kernelspec": {
   "display_name": "Python 3 (ipykernel)",
   "language": "python",
   "name": "python3"
  },
  "orig_nbformat": 4
 },
 "nbformat": 4,
 "nbformat_minor": 2
}
